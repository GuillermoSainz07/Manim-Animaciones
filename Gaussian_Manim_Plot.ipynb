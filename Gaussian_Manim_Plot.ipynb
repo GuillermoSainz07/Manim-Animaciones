{
  "cells": [
    {
      "cell_type": "markdown",
      "metadata": {
        "id": "view-in-github",
        "colab_type": "text"
      },
      "source": [
        "<a href=\"https://colab.research.google.com/github/GuillermoSainz07/Manim-Animaciones/blob/main/Gaussian_Manim_Plot.ipynb\" target=\"_parent\"><img src=\"https://colab.research.google.com/assets/colab-badge.svg\" alt=\"Open In Colab\"/></a>"
      ]
    },
    {
      "cell_type": "code",
      "execution_count": null,
      "id": "ae138265",
      "metadata": {
        "id": "ae138265",
        "outputId": "9ab2a40f-08ed-4e66-df7a-f624b9104fe9"
      },
      "outputs": [
        {
          "data": {
            "text/html": [
              "<pre style=\"white-space:pre;overflow-x:auto;line-height:normal;font-family:Menlo,'DejaVu Sans Mono',consolas,'Courier New',monospace\">Manim Community <span style=\"color: #008000; text-decoration-color: #008000\">v0.17.3</span>\n",
              "\n",
              "</pre>\n"
            ],
            "text/plain": [
              "Manim Community \u001b[32mv0.\u001b[0m\u001b[32m17.3\u001b[0m\n",
              "\n"
            ]
          },
          "metadata": {},
          "output_type": "display_data"
        }
      ],
      "source": [
        "from manim import *"
      ]
    },
    {
      "cell_type": "markdown",
      "id": "d1092bc6",
      "metadata": {
        "id": "d1092bc6"
      },
      "source": [
        "# Gaussian plot with manim"
      ]
    },
    {
      "cell_type": "markdown",
      "id": "cd5db2d2",
      "metadata": {
        "id": "cd5db2d2"
      },
      "source": [
        "Univariate Gaussian Distribution"
      ]
    },
    {
      "cell_type": "code",
      "execution_count": null,
      "id": "645441c7",
      "metadata": {
        "id": "645441c7"
      },
      "outputs": [],
      "source": [
        "import numpy as np\n",
        "import scipy.stats as st\n",
        "import matplotlib.pyplot as plt\n",
        "import seaborn as sns"
      ]
    },
    {
      "cell_type": "code",
      "execution_count": null,
      "id": "c9160bdb",
      "metadata": {
        "scrolled": true,
        "id": "c9160bdb",
        "outputId": "dc5a28b9-83b3-4f58-ad3d-cc5feebad49d"
      },
      "outputs": [
        {
          "name": "stderr",
          "output_type": "stream",
          "text": [
            "                                                                                                                       \r"
          ]
        },
        {
          "data": {
            "text/html": [
              "<video src=\"media\\jupyter\\Gaussian2D@2023-08-01@16-51-18.mp4\" controls autoplay loop style=\"max-width: 60%;\"  >\n",
              "      Your browser does not support the <code>video</code> element.\n",
              "    </video>"
            ],
            "text/plain": [
              "<IPython.core.display.Video object>"
            ]
          },
          "metadata": {},
          "output_type": "display_data"
        }
      ],
      "source": [
        "%%manim -qh -v WARNING Gaussian2D\n",
        "\n",
        "class Gaussian2D(Scene):\n",
        "    def construct(self):\n",
        "        k = ValueTracker(0)\n",
        "        p = ValueTracker(1)\n",
        "\n",
        "        x = np.linspace(-6,6,100)\n",
        "\n",
        "        axes = Axes(x_range=(-6,6),\n",
        "                   y_range=(0,0.9)).add_coordinates().scale(0.7)\n",
        "\n",
        "        density = always_redraw(lambda:\n",
        "                              axes.plot_line_graph(x,\n",
        "                                                  st.norm.pdf(x,\n",
        "                                                             loc=k.get_value(),\n",
        "                                                             scale=p.get_value()),\n",
        "                                                  add_vertex_dots=False,\n",
        "                                                  stroke_width=10,\n",
        "                                                  line_color=BLUE))\n",
        "\n",
        "        sigma = MathTex('\\sigma = ').to_edge(UL, buff=2).set_color(YELLOW)\n",
        "        mu = MathTex('\\mu = ').to_edge(UR, buff=2).set_color(YELLOW)\n",
        "        texto = Text('Distribucion Gaussiana Univariable').to_edge(UP, buff=0.5).scale(0.7)\n",
        "\n",
        "        mu_n = always_redraw(lambda: DecimalNumber(k.get_value()).next_to(mu))\n",
        "        sigma_n = always_redraw(lambda: DecimalNumber(p.get_value()).next_to(sigma))\n",
        "\n",
        "        self.add(axes)\n",
        "        self.play(FadeIn(VGroup(sigma,mu, mu_n, sigma_n, texto)))\n",
        "        self.play(Create(density), run_time=4)\n",
        "        self.wait()\n",
        "\n",
        "        self.wait()\n",
        "        self.play(k.animate.set_value(2))\n",
        "        self.wait()\n",
        "        self.play(k.animate.set_value(-2))\n",
        "        self.wait()\n",
        "        self.play(k.animate.set_value(0))\n",
        "        self.wait()\n",
        "\n",
        "        self.play(p.animate.set_value(2))\n",
        "        self.wait()\n",
        "        self.play(p.animate.set_value(0.5))\n",
        "        self.wait()\n",
        "        self.play(p.animate.set_value(1))\n",
        "        self.wait()\n",
        ""
      ]
    },
    {
      "cell_type": "markdown",
      "id": "d75b1d6a",
      "metadata": {
        "id": "d75b1d6a"
      },
      "source": [
        "Multivariate Gaussian Distribution"
      ]
    },
    {
      "cell_type": "code",
      "execution_count": null,
      "id": "f0ea3c57",
      "metadata": {
        "scrolled": false,
        "id": "f0ea3c57",
        "outputId": "1afd838d-24d9-470d-80a8-ea02cd8a60d2"
      },
      "outputs": [
        {
          "data": {
            "image/png": "[encoded data removed]",
            "text/plain": [
              "<Figure size 600x600 with 3 Axes>"
            ]
          },
          "metadata": {},
          "output_type": "display_data"
        }
      ],
      "source": [
        "cov = np.array([[0.3,-1],\n",
        "                [-1,5]])\n",
        "\n",
        "pts = np.random.multivariate_normal([0,2], cov, size=1000)\n",
        "\n",
        "sns.jointplot(x=pts[:,0], y=pts[:,1]).plot_joint(sns.kdeplot, cmap='viridis', bw_adjust=3)\n",
        "plt.show()"
      ]
    },
    {
      "cell_type": "code",
      "execution_count": null,
      "id": "d47f0bc7",
      "metadata": {
        "scrolled": true,
        "id": "d47f0bc7",
        "outputId": "6338bcda-1a15-4834-d2ee-f1abf4d2eb40"
      },
      "outputs": [
        {
          "name": "stderr",
          "output_type": "stream",
          "text": [
            "                                                                                                                       \r"
          ]
        },
        {
          "data": {
            "text/html": [
              "<video src=\"media\\jupyter\\Gaussian3D@2023-07-30@11-47-57.mp4\" controls autoplay loop style=\"max-width: 60%;\"  >\n",
              "      Your browser does not support the <code>video</code> element.\n",
              "    </video>"
            ],
            "text/plain": [
              "<IPython.core.display.Video object>"
            ]
          },
          "metadata": {},
          "output_type": "display_data"
        }
      ],
      "source": [
        "%%manim -qm -v WARNING Gaussian3D\n",
        "\n",
        "class Gaussian3D(ThreeDScene):\n",
        "    def construct(self):\n",
        "        axes = ThreeDAxes(x_range=(-4,4),\n",
        "                         y_range=(-3,3),\n",
        "                         z_range=(0,0.2))\n",
        "\n",
        "        def density(u,v):\n",
        "            x, y = np.meshgrid(u,v)\n",
        "            pos = np.dstack((x,y))\n",
        "            z = st.multivariate_normal([0, 0], [[1.0, 0.3], [0.3, 1.0]]).pdf(pos)\n",
        "            return z\n",
        "\n",
        "        surface = Surface(lambda u,v: axes.c2p(u,v, density(u,v)),\n",
        "                          u_range=[-4,4],\n",
        "                          v_range=[-3,3],\n",
        "                          fill_opacity=0.7)\n",
        "\n",
        "        self.set_camera_orientation(\n",
        "            phi=75*DEGREES,\n",
        "            theta=-70*DEGREES,\n",
        "            frame_center=[0, 0, 2],\n",
        "            zoom=0.75)\n",
        "\n",
        "\n",
        "        surface.set_fill_by_value(axes=axes, colorscale=[(PURPLE_E, 0), (GREEN_E, 0.1), (YELLOW, 0.17)], axis=2)\n",
        "\n",
        "        self.add(axes)\n",
        "        self.play(Create(surface))\n",
        "        self.wait()\n",
        "        self.move_camera(theta=70*DEGREES, run_time=2)\n",
        "        self.move_camera(theta=-70*DEGREES, run_time=2)\n",
        "        self.wait()\n",
        "\n",
        "        self.move_camera(\n",
        "            theta=-90*DEGREES,\n",
        "            phi=0,\n",
        "            frame_center=[0, 0, 0],\n",
        "            zoom=0.5\n",
        "        )\n",
        "        self.wait()"
      ]
    },
    {
      "cell_type": "markdown",
      "id": "7faf9d7d",
      "metadata": {
        "id": "7faf9d7d"
      },
      "source": [
        "Animacion de Distribucion Normal Multivariante con cambio de parametro $\\mu$"
      ]
    },
    {
      "cell_type": "code",
      "execution_count": null,
      "id": "366c3a56",
      "metadata": {
        "scrolled": false,
        "id": "366c3a56",
        "outputId": "09c587f0-c99b-4aad-cbad-b810791f46ac"
      },
      "outputs": [
        {
          "name": "stderr",
          "output_type": "stream",
          "text": [
            "                                                                                                                       \r"
          ]
        },
        {
          "data": {
            "text/html": [
              "<video src=\"media\\jupyter\\ChangeMu@2023-08-03@23-04-10.mp4\" controls autoplay loop style=\"max-width: 60%;\"  >\n",
              "      Your browser does not support the <code>video</code> element.\n",
              "    </video>"
            ],
            "text/plain": [
              "<IPython.core.display.Video object>"
            ]
          },
          "metadata": {},
          "output_type": "display_data"
        }
      ],
      "source": [
        "%%manim -qm -v WARNING ChangeMu\n",
        "\n",
        "class ChangeMu(ThreeDScene):\n",
        "    def construct(self):\n",
        "        axes = ThreeDAxes(x_range=(-5,5),\n",
        "                         y_range=(-5,5),\n",
        "                         z_range=(0,0.2))\n",
        "\n",
        "        # Elementos para la matriz mu\n",
        "        m_1 = ValueTracker(0)\n",
        "        m_2 = ValueTracker(0)\n",
        "\n",
        "\n",
        "        # Elementos para la matriz de varianza covarianza sigma\n",
        "        c_11 = ValueTracker(1)\n",
        "        c_12 = ValueTracker(0)\n",
        "        c_21 = ValueTracker(0)\n",
        "        c_22 = ValueTracker(1)\n",
        "\n",
        "        def density(u,v):\n",
        "            x,y = np.meshgrid(u,v)\n",
        "            matrix = np.dstack((x,y))\n",
        "            z = st.multivariate_normal(\n",
        "                mean=np.array([m_1.get_value(),\n",
        "                                m_2.get_value()]),\n",
        "                cov=np.array([[c_11.get_value(),c_12.get_value()],\n",
        "                             [c_21.get_value(), c_22.get_value()]])).pdf(matrix)\n",
        "            return z\n",
        "\n",
        "        surface =  always_redraw(lambda: Surface(lambda u,v:\n",
        "                          axes.c2p(u,v,density(u,v)),\n",
        "                                  u_range=(-5,5),\n",
        "                                  v_range=(-5,5),\n",
        "                                  fill_opacity=0.7).set_fill_by_value(axes=axes,\n",
        "                                                                      colorscale=[(PURPLE_E, 0),\n",
        "                                                                                  (GREEN_E, 0.1),\n",
        "                                                                                  (YELLOW, 0.17)], axis=2))\n",
        "        mu_1 = MathTex('\\mu_1 = ').set_color(YELLOW).to_edge(UR, buff=0.2)\n",
        "        mu_2 = MathTex('\\mu_2 = ').set_color(YELLOW).to_edge(UL, buff=0.2)\n",
        "\n",
        "        mu_1_n = always_redraw(lambda: DecimalNumber(m_1.get_value()).next_to(mu_1))\n",
        "        mu_2_n = always_redraw(lambda: DecimalNumber(m_2.get_value()).next_to(mu_2))\n",
        "\n",
        "        valores_mu = VGroup(mu_1,mu_2, mu_1_n, mu_2_n)\n",
        "\n",
        "        x_axis = axes.get_x_axis_label(MathTex('x'))\n",
        "        y_label = axes.get_y_axis_label(MathTex('y'))\n",
        "        z_label = axes.get_z_axis_label(MathTex('f(x,y)'))\n",
        "\n",
        "        axis_labels = VGroup(x_axis,y_label,z_label)\n",
        "\n",
        "        self.set_camera_orientation(\n",
        "            phi=75*DEGREES,\n",
        "            theta=-70*DEGREES,\n",
        "            frame_center=[0, 0, 2],\n",
        "            zoom=0.75)\n",
        "\n",
        "        self.play(Create((axes)))\n",
        "        self.play(Create(valores_mu))\n",
        "        self.add(axis_labels)\n",
        "        self.play(Create(surface))\n",
        "        self.wait()\n",
        "\n",
        "        self.play(m_1.animate.set_value(2))\n",
        "        self.play(m_1.animate.set_value(-2))\n",
        "        self.play(m_1.animate.set_value(0))\n",
        "\n",
        "        self.move_camera(\n",
        "            theta=-90*DEGREES,\n",
        "            phi=0,\n",
        "            frame_center=[0, 0, 0],\n",
        "            zoom=0.5\n",
        "        )\n",
        "\n",
        "        self.wait()\n",
        "        self.play(m_1.animate.set_value(2))\n",
        "        self.play(m_1.animate.set_value(-2))\n",
        "        self.play(m_1.animate.set_value(0))\n",
        "\n",
        "        self.move_camera(\n",
        "            phi=75*DEGREES,\n",
        "            theta=-70*DEGREES,\n",
        "            frame_center=[0, 0, 2],\n",
        "            zoom=0.75)\n",
        "\n",
        "        self.wait()\n",
        "        self.play(m_2.animate.set_value(2))\n",
        "        self.play(m_2.animate.set_value(-2))\n",
        "        self.play(m_2.animate.set_value(0))\n",
        "\n",
        "        self.move_camera(\n",
        "            theta=-90*DEGREES,\n",
        "            phi=0,\n",
        "            frame_center=[0, 0, 0],\n",
        "            zoom=0.5\n",
        "        )\n",
        "\n",
        "        self.wait()\n",
        "        self.play(m_2.animate.set_value(2))\n",
        "        self.play(m_2.animate.set_value(-2))\n",
        "        self.play(m_2.animate.set_value(0))\n",
        "        self.wait()\n",
        "\n",
        "        self.move_camera(\n",
        "            phi=75*DEGREES,\n",
        "            theta=-70*DEGREES,\n",
        "            frame_center=[0, 0, 2],\n",
        "            zoom=0.75)\n",
        "\n",
        "        self.wait()\n",
        "\n",
        "        self.move_camera(\n",
        "            theta=-90*DEGREES,\n",
        "            phi=0,\n",
        "            frame_center=[0, 0, 0],\n",
        "            zoom=0.5\n",
        "        )\n",
        "\n",
        "        self.wait()\n",
        "        self.play(m_1.animate.set_value(2))\n",
        "        self.play(m_2.animate.set_value(2))\n",
        "\n",
        "        self.wait()\n",
        "        self.play(m_1.animate.set_value(-2))\n",
        "        self.play(m_2.animate.set_value(-2))\n",
        "\n",
        "\n",
        "        self.wait()\n",
        "        self.play(m_1.animate.set_value(0))\n",
        "        self.play(m_2.animate.set_value(0))\n",
        "        self.wait()\n",
        "\n",
        "        self.move_camera(\n",
        "            phi=75*DEGREES,\n",
        "            theta=-70*DEGREES,\n",
        "            frame_center=[0, 0, 2],\n",
        "            zoom=0.75)\n",
        "\n",
        "        self.wait()\n",
        "\n",
        ""
      ]
    },
    {
      "cell_type": "markdown",
      "id": "9cd1304a",
      "metadata": {
        "id": "9cd1304a"
      },
      "source": [
        "Distribucion Normal Multivariante Cambio de elementos de matriz $\\Sigma$ elementos varianza"
      ]
    },
    {
      "cell_type": "code",
      "execution_count": null,
      "id": "d031d908",
      "metadata": {
        "id": "d031d908",
        "outputId": "3c6b0b8a-57dc-4b9b-ed3c-dadb45db29e3"
      },
      "outputs": [
        {
          "name": "stderr",
          "output_type": "stream",
          "text": [
            "                                                                                                                       \r"
          ]
        },
        {
          "data": {
            "text/html": [
              "<video src=\"media\\jupyter\\ChangeVariance@2023-08-04@21-12-18.mp4\" controls autoplay loop style=\"max-width: 60%;\"  >\n",
              "      Your browser does not support the <code>video</code> element.\n",
              "    </video>"
            ],
            "text/plain": [
              "<IPython.core.display.Video object>"
            ]
          },
          "metadata": {},
          "output_type": "display_data"
        }
      ],
      "source": [
        "%%manim -qm -v WARNING ChangeVariance\n",
        "\n",
        "class ChangeVariance(ThreeDScene):\n",
        "    def construct(self):\n",
        "\n",
        "        axes = ThreeDAxes(x_range=(-5,5),\n",
        "                         y_range=(-5,5),\n",
        "                         z_range=(0,0.8))\n",
        "\n",
        "\n",
        "        mu = np.array([0,0])\n",
        "\n",
        "        s11 = ValueTracker(1)\n",
        "        s12 = ValueTracker(0)\n",
        "        s21 = ValueTracker(0)\n",
        "        s22 = ValueTracker(1)\n",
        "\n",
        "        def density(u,v):\n",
        "            x,y = np.meshgrid(u,v)\n",
        "            t = np.dstack((x,y))\n",
        "\n",
        "            z = st.multivariate_normal(mean=np.array([0,0]),\n",
        "                                       cov=np.array([[s11.get_value(),s12.get_value()],\n",
        "                                                    [s21.get_value(),s22.get_value()]])).pdf(t)\n",
        "            return z\n",
        "\n",
        "        surface = always_redraw(lambda:\n",
        "                                Surface(lambda u,v: axes.c2p(u,v, density(u,v)),\n",
        "                         u_range=[-5,5],\n",
        "                         v_range=[-5,5],\n",
        "                         fill_opacity=0.7).set_fill_by_value(axes=axes,\n",
        "                                                             colorscale=[(PURPLE_E, 0),\n",
        "                                                                         (GREEN_E, 0.1),\n",
        "                                                                         (YELLOW, 0.17)],\n",
        "                                                             axis=2))\n",
        "        sigma_11 = (MathTex('\\sigma^2 = ')\n",
        "                    .set_color(YELLOW)\n",
        "                    .to_edge(UL, buff=0.2)\n",
        "                   )\n",
        "\n",
        "        sigma_22 = (MathTex('\\sigma^2 = ')\n",
        "                    .set_color(YELLOW)\n",
        "                    .to_edge(UR, buff=0.2)\n",
        "                   )\n",
        "\n",
        "        variance_1 = always_redraw(lambda: DecimalNumber(s11.get_value()).next_to(sigma_11))\n",
        "        variance_2 = always_redraw(lambda: DecimalNumber(s22.get_value()).next_to(sigma_22))\n",
        "\n",
        "        values_sigma = VGroup(sigma_11, variance_1,\n",
        "                             sigma_22, variance_2)\n",
        "\n",
        "        x_label = axes.get_x_axis_label(MathTex('x'))\n",
        "        y_label = axes.get_y_axis_label(MathTex('y'))\n",
        "        z_label = axes.get_z_axis_label(MathTex('f(x,y)'))\n",
        "\n",
        "        labels_axes = VGroup(x_label,\n",
        "                             y_label,\n",
        "                             z_label)\n",
        "\n",
        "\n",
        "        self.set_camera_orientation(\n",
        "            phi=75*DEGREES,\n",
        "            theta=-70*DEGREES,\n",
        "            frame_center=[0, 0, 2],\n",
        "            zoom=0.75)\n",
        "\n",
        "        self.play(Create(axes),\n",
        "                  Create(values_sigma),\n",
        "                  Create(labels_axes))\n",
        "\n",
        "        self.play(Create(surface))\n",
        "        self.wait()\n",
        "\n",
        "        #Modificacion de sigma 11\n",
        "\n",
        "        self.play(s11.animate.set_value(2))\n",
        "        self.wait()\n",
        "        self.play(s11.animate.set_value(0.5))\n",
        "        self.wait()\n",
        "        self.play(s11.animate.set_value(1))\n",
        "        self.wait()\n",
        "\n",
        "        self.move_camera(\n",
        "            theta=-90*DEGREES,\n",
        "            phi=0,\n",
        "            frame_center=[0, 0, 0],\n",
        "            zoom=0.5\n",
        "        )\n",
        "\n",
        "        self.play(s11.animate.set_value(2))\n",
        "        self.wait()\n",
        "        self.play(s11.animate.set_value(0.5))\n",
        "        self.wait()\n",
        "        self.play(s11.animate.set_value(1))\n",
        "        self.wait()\n",
        "\n",
        "        #Modificacion de sigma 22\n",
        "\n",
        "        self.move_camera(\n",
        "            phi=75*DEGREES,\n",
        "            theta=-70*DEGREES,\n",
        "            frame_center=[0, 0, 2],\n",
        "            zoom=0.75)\n",
        "\n",
        "        self.wait()\n",
        "\n",
        "        self.play(s22.animate.set_value(2))\n",
        "        self.wait()\n",
        "        self.play(s22.animate.set_value(0.5))\n",
        "        self.wait()\n",
        "        self.play(s22.animate.set_value(1))\n",
        "        self.wait()\n",
        "\n",
        "        self.move_camera(\n",
        "            theta=-90*DEGREES,\n",
        "            phi=0,\n",
        "            frame_center=[0, 0, 0],\n",
        "            zoom=0.5\n",
        "        )\n",
        "\n",
        "        self.play(s22.animate.set_value(2))\n",
        "        self.wait()\n",
        "        self.play(s22.animate.set_value(0.5))\n",
        "        self.wait()\n",
        "        self.play(s22.animate.set_value(1))\n",
        "        self.wait()\n",
        "\n",
        "        #Modificacion de ambas varianzas\n",
        "\n",
        "        self.move_camera(\n",
        "            phi=75*DEGREES,\n",
        "            theta=-70*DEGREES,\n",
        "            frame_center=[0, 0, 2],\n",
        "            zoom=0.75)\n",
        "\n",
        "        self.wait()\n",
        "\n",
        "        self.play(s11.animate.set_value(2))\n",
        "        self.play(s22.animate.set_value(2))\n",
        "        self.wait()\n",
        "        self.play(s11.animate.set_value(0.5))\n",
        "        self.play(s22.animate.set_value(0.5))\n",
        "        self.wait()\n",
        "        self.play(s11.animate.set_value(1))\n",
        "        self.play(s22.animate.set_value(1))\n",
        "\n",
        "        self.wait()\n",
        "\n",
        "        self.move_camera(\n",
        "            theta=-90*DEGREES,\n",
        "            phi=0,\n",
        "            frame_center=[0, 0, 0],\n",
        "            zoom=0.5\n",
        "        )\n",
        "\n",
        "        self.wait()\n",
        "\n",
        "        self.play(s11.animate.set_value(2))\n",
        "        self.play(s22.animate.set_value(2))\n",
        "        self.wait()\n",
        "        self.play(s11.animate.set_value(0.5))\n",
        "        self.play(s22.animate.set_value(0.5))\n",
        "        self.wait()\n",
        "        self.play(s11.animate.set_value(1))\n",
        "        self.play(s22.animate.set_value(1))\n",
        "\n",
        "        self.wait()\n",
        "\n",
        "        self.move_camera(\n",
        "            phi=75*DEGREES,\n",
        "            theta=-70*DEGREES,\n",
        "            frame_center=[0, 0, 2],\n",
        "            zoom=0.75)\n",
        "\n",
        "        self.wait()"
      ]
    }
  ],
  "metadata": {
    "kernelspec": {
      "display_name": "Python 3 (ipykernel)",
      "language": "python",
      "name": "python3"
    },
    "language_info": {
      "codemirror_mode": {
        "name": "ipython",
        "version": 3
      },
      "file_extension": ".py",
      "mimetype": "text/x-python",
      "name": "python",
      "nbconvert_exporter": "python",
      "pygments_lexer": "ipython3",
      "version": "3.9.13"
    },
    "colab": {
      "provenance": [],
      "include_colab_link": true
    }
  },
  "nbformat": 4,
  "nbformat_minor": 5
}