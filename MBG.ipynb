{
  "cells": [
    {
      "cell_type": "markdown",
      "metadata": {
        "id": "view-in-github",
        "colab_type": "text"
      },
      "source": [
        "<a href=\"https://colab.research.google.com/github/GuillermoSainz07/Manim-Animaciones/blob/main/MBG.ipynb\" target=\"_parent\"><img src=\"https://colab.research.google.com/assets/colab-badge.svg\" alt=\"Open In Colab\"/></a>"
      ]
    },
    {
      "cell_type": "code",
      "execution_count": null,
      "id": "16e37e8d",
      "metadata": {
        "id": "16e37e8d",
        "outputId": "3d9b60bf-cf6a-4c9b-8194-8b55e8834de7"
      },
      "outputs": [
        {
          "data": {
            "text/html": [
              "<pre style=\"white-space:pre;overflow-x:auto;line-height:normal;font-family:Menlo,'DejaVu Sans Mono',consolas,'Courier New',monospace\">Manim Community <span style=\"color: #008000; text-decoration-color: #008000\">v0.17.3</span>\n",
              "\n",
              "</pre>\n"
            ],
            "text/plain": [
              "Manim Community \u001b[32mv0.\u001b[0m\u001b[32m17.3\u001b[0m\n",
              "\n"
            ]
          },
          "metadata": {},
          "output_type": "display_data"
        }
      ],
      "source": [
        "import jupyter_manim\n",
        "from manim import *"
      ]
    },
    {
      "cell_type": "code",
      "execution_count": null,
      "id": "c323f0fd",
      "metadata": {
        "id": "c323f0fd"
      },
      "outputs": [],
      "source": [
        "import numpy as np\n",
        "import matplotlib.pyplot as plt\n",
        "import scipy.stats as st"
      ]
    },
    {
      "cell_type": "markdown",
      "source": [
        "### Animacion Movimiento Browniano Geometrico\n"
      ],
      "metadata": {
        "id": "PSMDNvkg0a7c"
      },
      "id": "PSMDNvkg0a7c"
    },
    {
      "cell_type": "code",
      "execution_count": null,
      "id": "30780dae",
      "metadata": {
        "id": "30780dae"
      },
      "outputs": [],
      "source": [
        "def MBG(T=1, pasos=252, simulaciones=100, sigma=0.1, mu=0.15, s0=100):\n",
        "\n",
        "  dt = 1/pasos\n",
        "  wt = np.random.normal(0,np.sqrt(dt), size=(simulaciones,pasos))\n",
        "  X = np.zeros((simulaciones,pasos+1))\n",
        "  S = np.zeros((simulaciones,pasos+1))\n",
        "  tiempo = np.zeros(pasos+1)\n",
        "\n",
        "  X[:,0] = np.log(s0)\n",
        "\n",
        "  for i in range(0,252):\n",
        "    X[:,i+1] = X[:,i] + (mu - 0.5 * sigma**2)*dt + sigma * wt[:,i]\n",
        "    tiempo[i+1] = tiempo[i] + dt\n",
        "\n",
        "  S = np.exp(X)\n",
        "\n",
        "  caminos = {'tiempo': tiempo, 'S': S, 'X':X}\n",
        "  return caminos"
      ]
    },
    {
      "cell_type": "code",
      "execution_count": null,
      "id": "4446e0f1",
      "metadata": {
        "id": "4446e0f1"
      },
      "outputs": [],
      "source": [
        "caminos = MBG()\n",
        "tiempo =  caminos['tiempo']\n",
        "X = caminos['X']\n",
        "S = caminos['S']"
      ]
    },
    {
      "cell_type": "code",
      "execution_count": null,
      "id": "74a042c9",
      "metadata": {
        "id": "74a042c9"
      },
      "outputs": [],
      "source": [
        "sigma=0.1\n",
        "mu=0.15\n",
        "s0 = 100"
      ]
    },
    {
      "cell_type": "code",
      "execution_count": null,
      "id": "0b93bf6e",
      "metadata": {
        "scrolled": false,
        "id": "0b93bf6e",
        "outputId": "3c17a96c-0b17-4639-fb90-32086ec58796"
      },
      "outputs": [
        {
          "name": "stderr",
          "output_type": "stream",
          "text": [
            "C:\\Users\\PC\\anaconda3\\lib\\site-packages\\scipy\\stats\\_distn_infrastructure.py:2085: RuntimeWarning: divide by zero encountered in double_scalars\n",
            "  x = np.asarray((x - loc)/scale, dtype=dtyp)\n",
            "                                                                                                                       \r"
          ]
        },
        {
          "data": {
            "text/html": [
              "<video src=\"media\\jupyter\\Xtprocess@2023-08-02@14-27-57.mp4\" controls autoplay loop style=\"max-width: 60%;\"  >\n",
              "      Your browser does not support the <code>video</code> element.\n",
              "    </video>"
            ],
            "text/plain": [
              "<IPython.core.display.Video object>"
            ]
          },
          "metadata": {},
          "output_type": "display_data"
        }
      ],
      "source": [
        "%%manim -qh -v WARNING Xtprocess\n",
        "\n",
        "class Xtprocess(ThreeDScene):\n",
        "    def construct(self):\n",
        "        axes = ThreeDAxes(\n",
        "        x_range=[0,1],\n",
        "        y_range=[3,6],\n",
        "        z_range=[0,9],\n",
        "        x_length=8,\n",
        "        y_length=6,\n",
        "        z_length=6\n",
        "        )\n",
        "\n",
        "        colores = [BLUE,PINK,ORANGE,YELLOW,PURPLE,GREEN,RED]\n",
        "        x = np.linspace(0,1, 252+1)\n",
        "        self.add(axes)\n",
        "        self.wait()\n",
        "\n",
        "        text2d = Text('Movimiento Browniano Geometrico').scale(0.5).to_edge(UP, buff=0.3)\n",
        "        text2d.rotate(PI*2, axis= RIGHT)\n",
        "        mgb = MathTex('ds_t = \\mu s_t dt + \\sigma s_t dw_t').next_to(text2d, DOWN).scale(0.6)\n",
        "        self.play(Write(text2d), Write(mgb))\n",
        "\n",
        "        for i in range(20):\n",
        "\n",
        "            color = colores[int(np.random.choice(7,1))]\n",
        "\n",
        "            y = X[i,:].flatten()\n",
        "\n",
        "            line = axes.plot_line_graph(x,y, add_vertex_dots=False).set_color(color)\n",
        "\n",
        "            self.play(Create(line), run_time=3)\n",
        "            self.wait()\n",
        "\n",
        "\n",
        "        self.move_camera(zoom=0.55)\n",
        "        self.wait()\n",
        "        self.move_camera(phi=60 * DEGREES)\n",
        "        self.wait()\n",
        "        self.move_camera(theta=-45 * DEGREES)\n",
        "        self.wait()\n",
        "\n",
        "        text2 = MathTex('X(T) \\sim N(X(t_0) + (\\mu + 1/2 \\sigma^2)(T-t_0), \\sigma^2(T-t_0))')\n",
        "        text2.rotate(PI/2, axis=RIGHT).scale(0.5).to_edge(DOWN)\n",
        "        self.play(Write(text2))\n",
        "        self.wait()\n",
        "\n",
        "        T = np.linspace(0,1,6)\n",
        "\n",
        "        for ti in T:\n",
        "            try:\n",
        "                density = axes.plot_parametric_curve(\n",
        "                    lambda t: np.array(\n",
        "                        [ti,\n",
        "                         t,\n",
        "                         st.norm.pdf(t, np.log(s0) + (mu - 0.5*sigma**2)*ti, scale= sigma*np.sqrt(ti))\n",
        "                        ]),\n",
        "                    t_range=(3,6), color=BLUE\n",
        "                )\n",
        "                self.play(Create(density))\n",
        "                self.wait()\n",
        "\n",
        "            except:\n",
        "                pass\n",
        "\n",
        "        self.move_camera(theta=0 * DEGREES)\n",
        "        self.wait()\n",
        "        self.move_camera(phi=90 * DEGREES)\n",
        "        self.wait()"
      ]
    },
    {
      "cell_type": "code",
      "execution_count": null,
      "id": "351dd7cf",
      "metadata": {
        "id": "351dd7cf",
        "outputId": "777ffa9b-c909-4581-816f-087de8004ffc"
      },
      "outputs": [
        {
          "name": "stderr",
          "output_type": "stream",
          "text": [
            "                                                                                                                       \r"
          ]
        },
        {
          "data": {
            "text/html": [
              "<video src=\"media\\jupyter\\Stprocess@2023-08-02@14-04-06.mp4\" controls autoplay loop style=\"max-width: 60%;\"  >\n",
              "      Your browser does not support the <code>video</code> element.\n",
              "    </video>"
            ],
            "text/plain": [
              "<IPython.core.display.Video object>"
            ]
          },
          "metadata": {},
          "output_type": "display_data"
        }
      ],
      "source": [
        "%%manim -qh -v WARNING Stprocess\n",
        "\n",
        "class Stprocess(ThreeDScene):\n",
        "    def construct(self):\n",
        "        axes = ThreeDAxes(\n",
        "        x_range=[0,1],\n",
        "        y_range=[90,140,10],\n",
        "        z_range=[0,0.09],\n",
        "        x_length=8,\n",
        "        y_length=6,\n",
        "        z_length=6\n",
        "        )\n",
        "\n",
        "        colores = [BLUE,PINK,ORANGE,YELLOW,PURPLE,GREEN]\n",
        "        x = np.linspace(0,1, 252+1)\n",
        "        self.add(axes)\n",
        "        self.wait()\n",
        "\n",
        "        text2d = Text('Movimiento Browniano Geometrico').scale(0.5).to_edge(UP, buff=0.3)\n",
        "        text2d.rotate(PI*2, axis= RIGHT)\n",
        "        mgb = MathTex('ds_t = \\mu s_t dt + \\sigma s_t dw_t').next_to(text2d, DOWN).scale(0.6)\n",
        "\n",
        "        self.play(Write(text2d), Write(mgb))\n",
        "\n",
        "        for i in range(20):\n",
        "\n",
        "            color = colores[int(np.random.choice(6,1))]\n",
        "\n",
        "            y = S[i,:].flatten()\n",
        "\n",
        "            line = axes.plot_line_graph(x,y, add_vertex_dots=False).set_color(color)\n",
        "\n",
        "            self.play(Create(line), run_time=3)\n",
        "            self.wait()\n",
        "\n",
        "        line_mean = axes.plot_line_graph(x,np.mean(S, axis=0),\n",
        "                                        line_color=RED,\n",
        "                                        stroke_width=6,\n",
        "                                        add_vertex_dots=False)\n",
        "        self.play(Create(line_mean))\n",
        "        self.move_camera(zoom=0.55)\n",
        "\n",
        "        self.move_camera(phi=60 * DEGREES)\n",
        "        self.wait()\n",
        "        self.move_camera(theta=-45 * DEGREES)\n",
        "        self.wait()\n",
        "\n",
        "        text2 = MathTex('S(T) \\sim exp(X(T))')\n",
        "        text2.rotate(PI/2, axis=RIGHT).scale(0.7).to_edge(DOWN)\n",
        "        self.play(Write(text2))\n",
        "        self.wait()\n",
        "\n",
        "        T = np.linspace(0,1,6)\n",
        "\n",
        "        for ti in T:\n",
        "            try:\n",
        "                density = axes.plot_parametric_curve(\n",
        "                    lambda t: np.array(\n",
        "                        [ti,\n",
        "                         t,\n",
        "                         st.lognorm.pdf(t, scale = np.exp(np.log(s0) + (mu - 0.5*sigma**2)*ti), s = sigma*np.sqrt(ti))\n",
        "                        ]),\n",
        "                    t_range=(0,200), color=BLUE\n",
        "                )\n",
        "                self.play(Create(density))\n",
        "                self.wait()\n",
        "\n",
        "            except:\n",
        "                pass\n",
        "\n",
        "        self.move_camera(theta=0 * DEGREES)\n",
        "        self.wait()\n",
        "        self.move_camera(phi=90 * DEGREES)\n",
        "        self.wait()"
      ]
    }
  ],
  "metadata": {
    "kernelspec": {
      "display_name": "Python 3 (ipykernel)",
      "language": "python",
      "name": "python3"
    },
    "language_info": {
      "codemirror_mode": {
        "name": "ipython",
        "version": 3
      },
      "file_extension": ".py",
      "mimetype": "text/x-python",
      "name": "python",
      "nbconvert_exporter": "python",
      "pygments_lexer": "ipython3",
      "version": "3.9.13"
    },
    "colab": {
      "provenance": [],
      "include_colab_link": true
    }
  },
  "nbformat": 4,
  "nbformat_minor": 5
}